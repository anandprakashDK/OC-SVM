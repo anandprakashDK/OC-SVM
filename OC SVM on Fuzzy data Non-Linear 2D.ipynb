{
 "cells": [
  {
   "cell_type": "code",
   "execution_count": 51,
   "metadata": {},
   "outputs": [],
   "source": [
    "import numpy as np\n",
    "import matplotlib.pyplot as plt\n",
    "import seaborn as sns\n",
    "from sklearn.datasets.samples_generator import make_blobs,make_moons,make_circles\n",
    "from sklearn.model_selection import train_test_split\n",
    "from sklearn.svm import OneClassSVM as OCSVM\n",
    "from sklearn.gaussian_process.kernels import RBF\n",
    "from sklearn.svm import SVC\n",
    "from sklearn import datasets"
   ]
  },
  {
   "cell_type": "code",
   "execution_count": 52,
   "metadata": {},
   "outputs": [],
   "source": [
    "X, Y = make_circles(n_samples=30,factor=0.1,noise=0.4,random_state=5)\n",
    "X=X+3"
   ]
  },
  {
   "cell_type": "code",
   "execution_count": 53,
   "metadata": {},
   "outputs": [],
   "source": [
    "X1=X[Y==1]\n",
    "Y1=Y[Y==1]"
   ]
  },
  {
   "cell_type": "code",
   "execution_count": 54,
   "metadata": {},
   "outputs": [
    {
     "data": {
      "image/png": "[encoded data removed]",
      "text/plain": [
       "<Figure size 432x288 with 1 Axes>"
      ]
     },
     "metadata": {},
     "output_type": "display_data"
    }
   ],
   "source": [
    "sns.set()\n",
    "_=plt.scatter(X[:,0],X[:,1],c=Y, cmap='coolwarm')\n",
    "plt.margins(0.05)\n",
    "_=plt.xlabel('x1')\n",
    "_=plt.ylabel('x2')\n",
    "plt.show()"
   ]
  },
  {
   "cell_type": "code",
   "execution_count": 6,
   "metadata": {},
   "outputs": [
    {
     "data": {
      "image/png": "[encoded data removed]",
      "text/plain": [
       "<Figure size 432x288 with 1 Axes>"
      ]
     },
     "metadata": {
      "needs_background": "light"
     },
     "output_type": "display_data"
    }
   ],
   "source": [
    "# plot the decision function\n",
    "ax = plt.gca()\n",
    "xlim = ax.get_xlim()\n",
    "ylim = ax.get_ylim()\n",
    "xx = np.linspace(0, 5, 30)\n",
    "yy = np.linspace(0, 6, 30)\n",
    "YY, XX = np.meshgrid(yy, xx)\n",
    "xy = np.vstack([XX.ravel(), YY.ravel()]).T"
   ]
  },
  {
   "cell_type": "code",
   "execution_count": 7,
   "metadata": {},
   "outputs": [],
   "source": [
    "class FzOCSVM:\n",
    "    def __init__(self,n_alpha,kernel):\n",
    "        self.n_alpha=n_alpha\n",
    "        self.kernel=kernel\n",
    "        self.alpha=np.linspace(0,1,self.n_alpha)\n",
    "        self.fuzz_points=[]\n",
    "        self.ffy=[]\n",
    "        self.fdata=[]\n",
    "        self.fY=[]\n",
    "        self.cff_list=[]\n",
    "        self.rho_list=[]\n",
    "        self.weight=[]\n",
    "        self.bias=[]\n",
    "        self.clf2=OCSVM(kernel=self.kernel)\n",
    "        self.SV_list=[]\n",
    "        self.w=[]\n",
    "        self.b=[]\n",
    "        self.fw=[]\n",
    "        self.fb=[]\n",
    "    \n",
    "    def Gen_lb_ub(self,x):\n",
    "        lb=x-0.02*x\n",
    "        ub=x+0.03*x\n",
    "        return lb,ub\n",
    "    \n",
    "    def Gen_cen_ran(self,lb,ub):\n",
    "        cen=(ub+lb)/2\n",
    "        ran=(ub-lb)/2\n",
    "        return cen,ran\n",
    "    \n",
    "    def Fuzzify(self,cen,ran,alpha):\n",
    "        a=cen-ran*(1-alpha)\n",
    "        b=cen+ran*(1-alpha)\n",
    "        return a,b\n",
    "    \n",
    "    def Gen_setx(self,a,b,c,y,ffy):\n",
    "        #print(\"in gen set x\")\n",
    "        for i in range(40):\n",
    "            self.fuzz_points.append([np.random.uniform(a,b),c])\n",
    "            self.fY.append(y)\n",
    "            #self.ffy.append(y)\n",
    "        self.fuzz_points.append([a,c])\n",
    "        self.fuzz_points.append([b,c])\n",
    "        self.fY.append(y)\n",
    "        self.fY.append(y)\n",
    "        #print(self.fuzz_points)\n",
    "        #self.ffy.append(y)\n",
    "        #self.ffy.append(y)\n",
    "    \n",
    "    def Gen_sety(self,a,b,c,y,ffy):\n",
    "        for i in range(40):\n",
    "            self.fuzz_points.append([c,np.random.uniform(a,b)])\n",
    "            self.fY.append(y)\n",
    "            #self.ffy.append(y)\n",
    "        self.fuzz_points.append([c,a])\n",
    "        self.fuzz_points.append([c,b])\n",
    "        self.fY.append(y)\n",
    "        self.fY.append(y)\n",
    "        #self.ffy.append(y)\n",
    "        #self.ffy.append(y)\n",
    "        \n",
    "    #function to plot the data points for each alpha\n",
    "    def plot_data(self,x,y):\n",
    "        lb,ub=self.Gen_lb_ub(x)\n",
    "        cen,ran=self.Gen_cen_ran(lb,ub)\n",
    "        for i in range(11):\n",
    "            #global fuzz_points\n",
    "            self.fuzz_points=[]\n",
    "            a,b=self.Fuzzify(cen,ran,self.alpha[i])\n",
    "            self.Gen_setx(a[0],b[0],a[1],y,self.ffy)\n",
    "            self.Gen_setx(a[0],b[0],b[1],y,self.ffy)\n",
    "            self.Gen_sety(a[1],b[1],a[0],y,self.ffy)\n",
    "            self.Gen_sety(a[1],b[1],b[0],y,self.ffy)\n",
    "            self.fdata.extend(self.fuzz_points)\n",
    "            #print(len(fdata))\n",
    "            fuzz_points_new=np.array(self.fuzz_points)\n",
    "            #print(fuzz_points_new[:,:])\n",
    "            t=(y,1-self.alpha[i],1-self.alpha[i])\n",
    "            #plt.scatter(i,i,color=(0,alpha[i],alpha[i]))\n",
    "            plt.scatter(fuzz_points_new[:,0],fuzz_points_new[:,1],color=t,s=2,cmap='coolwarm')\n",
    "            #print(alpha[i])\n",
    "    \n",
    "    def plot_svc_decision_function(self,model,X,Y, ax=None,\n",
    "        plot_support=True,alpha_value=0.7):\n",
    "        \"\"\"Plot the decision function for a 2D SVC\"\"\"\n",
    "        plt.scatter(X[:, 0], X[:, 1], c=Y, s=30, cmap=plt.cm.Paired)\n",
    "        #plot the decision function\n",
    "        ax = plt.gca()\n",
    "        xlim = ax.get_xlim()\n",
    "        ylim = ax.get_ylim()\n",
    "        #create grid to evaluate model\n",
    "        Z = model.decision_function(xy).reshape(XX.shape)\n",
    "        #plot decision boundary and margins\n",
    "        ax.contour(XX, YY, Z, \"\"\"colors=(alpha_value,alpha_value,alpha_value)\"\"\", levels=[-1, 0,1], alpha=1,linestyles=['--', '-', '--'])\n",
    "        #plot support vectors\n",
    "        #ax.scatter(model.support_vectors_[:, 0], model.support_vectors_[:, 1], s=100,\n",
    "        # linewidth=1, facecolors='none', edgecolors='k',alpha=1-alpha_value)\n",
    "        #plt.show()\n",
    "    def predict(self,X,Y,index):\n",
    "        rbf=RBF()\n",
    "        SV=self.SV_list[index]\n",
    "        val=0\n",
    "        distances=[]\n",
    "        y_pred=[]\n",
    "        n=len(X)\n",
    "        m=len(SV)\n",
    "        for i in range(n):\n",
    "            val=0\n",
    "            for j in range(m):\n",
    "                B=[]\n",
    "                C=[]\n",
    "                B.append(SV[j])\n",
    "                C.append(X[i])\n",
    "                result=rbf.__call__(B,C)\n",
    "                #print(result)\n",
    "                val=val+self.cff_list[index][j]*result[0][0]\n",
    "            val=val+self.rho_list[index]\n",
    "            distances.append(val)\n",
    "            if val>0:\n",
    "                y_pred.append(1)\n",
    "            elif val<0:\n",
    "                y_pred.append(0)\n",
    "        y_pred=np.array(y_pred)\n",
    "        return y_pred,distances\n",
    "    \n",
    "    def main(self,X,Y,n_samples):\n",
    "        for i in range(self.n_alpha):\n",
    "            #global fuzz_points\n",
    "            self.fuzz_points=[]\n",
    "            #global ffy\n",
    "            self.ffy=[]\n",
    "            t=[]\n",
    "            for j in range(n_samples):\n",
    "                lb,ub=self.Gen_lb_ub(X[j])\n",
    "                cen,ran=self.Gen_cen_ran(lb,ub)\n",
    "                a,b=self.Fuzzify(cen,ran,self.alpha[i])\n",
    "                self.Gen_setx(a[0],b[0],a[1],Y[j],self.ffy)\n",
    "                #print(self.fuzz_points,j)\n",
    "                self.Gen_setx(a[0],b[0],b[1],Y[j],self.ffy)\n",
    "                self.Gen_sety(a[1],b[1],a[0],Y[j],self.ffy)\n",
    "                self.Gen_sety(a[1],b[1],b[0],Y[j],self.ffy)\n",
    "                #print(self.fuzz_points)\n",
    "                self.fdata.extend(self.fuzz_points)\n",
    "                #x1=np.linspace(2,5)\n",
    "                self.fuzz_points_new=np.array(self.fuzz_points)\n",
    "            #X_train,X_test,Y_train,Y_test=train_test_split(fuzz_points,ffy,test_size=0.3,random_state=1)\n",
    "            self.clf2.fit(self.fuzz_points)\n",
    "            cff=self.clf2.dual_coef_[0]\n",
    "            rho=self.clf2.intercept_[0]\n",
    "            sv=self.clf2.support_vectors_\n",
    "            self.cff_list.append(cff)\n",
    "            self.rho_list.append(rho)\n",
    "            self.SV_list.append(sv)\n",
    "            #y_pred,distances=self.predict(X,Y,i)\n",
    "            #print((y_pred==Y).mean())\n",
    "            #m=-w[0][0]/w[0][1]\n",
    "            #x2=m*x1-b[0]/w[0][1]\n",
    "            #SV=clf2.support_vectors_\n",
    "            #x2=0\n",
    "            self.plot_svc_decision_function(self.clf2,X,Y,alpha_value=self.alpha[i])\n",
    "        self.deFuzzify()\n",
    "        #plt.scatter(X[0,:],X[1,:],c=Y)\n",
    "        #plt.show()\n",
    "        #for i in range(len(SV)):\n",
    "        #x2=x2+cff[i]*rbf.__call__(SV[i],)\n",
    "        #plt.plot(x1,x2,c=(1-alpha[i],1-alpha[i],1-alpha[i]),linewidth=1.0)\n",
    "        #plt.scatter(SV[:,0],SV[:,1],s=300,lw=1,c=(1-alpha[i],1-alpha[i],1-alpha[i]),facecolors='none')\n",
    "        #print(SV)\n",
    "    \n",
    "    def deFuzzify(self):\n",
    "        n=min(list(map(len,self.cff_list)))\n",
    "        for j in range(n):\n",
    "            d={}\n",
    "            for i in range(len(self.cff_list)):\n",
    "                #if self.cff_list[i][j] not in d.keys():\n",
    "                d[self.cff_list[i][j]]=[]\n",
    "            for i in range(len(self.cff_list)):\n",
    "                d[self.cff_list[i][j]].append(self.alpha[i])\n",
    "            self.w=[]\n",
    "            self.fw=[]\n",
    "            for (key,value) in d.items():\n",
    "                maxalpha=max(value)\n",
    "                self.fw.append(maxalpha)\n",
    "                self.w.append(key)\n",
    "            output=np.trapz(y=self.fw,x=self.w)\n",
    "            self.weight.append(output)\n",
    "        r={}\n",
    "        for i in range(len(self.rho_list)):\n",
    "            if self.rho_list[i] not in r:\n",
    "                r[self.rho_list[i]]=[]\n",
    "        for i in range(len(self.rho_list)):\n",
    "            r[self.rho_list[i]].append(self.alpha[i])\n",
    "        self.b=[]\n",
    "        self.fb=[]\n",
    "        for (key,value) in r.items():\n",
    "            maxalpha=max(value)\n",
    "            self.fb.append(maxalpha)\n",
    "            self.b.append(key)\n",
    "        output=np.trapz(y=self.fb,x=self.b)\n",
    "        self.bias=output"
   ]
  },
  {
   "cell_type": "code",
   "execution_count": 8,
   "metadata": {},
   "outputs": [],
   "source": [
    "fob=FzOCSVM(n_alpha=11,kernel='rbf')"
   ]
  },
  {
   "cell_type": "code",
   "execution_count": 9,
   "metadata": {},
   "outputs": [
    {
     "name": "stderr",
     "output_type": "stream",
     "text": [
      "C:\\Users\\ANWOY\\Anaconda3\\lib\\site-packages\\sklearn\\svm\\base.py:193: FutureWarning: The default value of gamma will change from 'auto' to 'scale' in version 0.22 to account better for unscaled features. Set gamma explicitly to 'auto' or 'scale' to avoid this warning.\n",
      "  \"avoid this warning.\", FutureWarning)\n",
      "C:\\Users\\ANWOY\\Anaconda3\\lib\\site-packages\\sklearn\\svm\\base.py:193: FutureWarning: The default value of gamma will change from 'auto' to 'scale' in version 0.22 to account better for unscaled features. Set gamma explicitly to 'auto' or 'scale' to avoid this warning.\n",
      "  \"avoid this warning.\", FutureWarning)\n",
      "C:\\Users\\ANWOY\\Anaconda3\\lib\\site-packages\\sklearn\\svm\\base.py:193: FutureWarning: The default value of gamma will change from 'auto' to 'scale' in version 0.22 to account better for unscaled features. Set gamma explicitly to 'auto' or 'scale' to avoid this warning.\n",
      "  \"avoid this warning.\", FutureWarning)\n",
      "C:\\Users\\ANWOY\\Anaconda3\\lib\\site-packages\\sklearn\\svm\\base.py:193: FutureWarning: The default value of gamma will change from 'auto' to 'scale' in version 0.22 to account better for unscaled features. Set gamma explicitly to 'auto' or 'scale' to avoid this warning.\n",
      "  \"avoid this warning.\", FutureWarning)\n",
      "C:\\Users\\ANWOY\\Anaconda3\\lib\\site-packages\\sklearn\\svm\\base.py:193: FutureWarning: The default value of gamma will change from 'auto' to 'scale' in version 0.22 to account better for unscaled features. Set gamma explicitly to 'auto' or 'scale' to avoid this warning.\n",
      "  \"avoid this warning.\", FutureWarning)\n",
      "C:\\Users\\ANWOY\\Anaconda3\\lib\\site-packages\\sklearn\\svm\\base.py:193: FutureWarning: The default value of gamma will change from 'auto' to 'scale' in version 0.22 to account better for unscaled features. Set gamma explicitly to 'auto' or 'scale' to avoid this warning.\n",
      "  \"avoid this warning.\", FutureWarning)\n",
      "C:\\Users\\ANWOY\\Anaconda3\\lib\\site-packages\\sklearn\\svm\\base.py:193: FutureWarning: The default value of gamma will change from 'auto' to 'scale' in version 0.22 to account better for unscaled features. Set gamma explicitly to 'auto' or 'scale' to avoid this warning.\n",
      "  \"avoid this warning.\", FutureWarning)\n",
      "C:\\Users\\ANWOY\\Anaconda3\\lib\\site-packages\\sklearn\\svm\\base.py:193: FutureWarning: The default value of gamma will change from 'auto' to 'scale' in version 0.22 to account better for unscaled features. Set gamma explicitly to 'auto' or 'scale' to avoid this warning.\n",
      "  \"avoid this warning.\", FutureWarning)\n",
      "C:\\Users\\ANWOY\\Anaconda3\\lib\\site-packages\\sklearn\\svm\\base.py:193: FutureWarning: The default value of gamma will change from 'auto' to 'scale' in version 0.22 to account better for unscaled features. Set gamma explicitly to 'auto' or 'scale' to avoid this warning.\n",
      "  \"avoid this warning.\", FutureWarning)\n",
      "C:\\Users\\ANWOY\\Anaconda3\\lib\\site-packages\\sklearn\\svm\\base.py:193: FutureWarning: The default value of gamma will change from 'auto' to 'scale' in version 0.22 to account better for unscaled features. Set gamma explicitly to 'auto' or 'scale' to avoid this warning.\n",
      "  \"avoid this warning.\", FutureWarning)\n",
      "C:\\Users\\ANWOY\\Anaconda3\\lib\\site-packages\\sklearn\\svm\\base.py:193: FutureWarning: The default value of gamma will change from 'auto' to 'scale' in version 0.22 to account better for unscaled features. Set gamma explicitly to 'auto' or 'scale' to avoid this warning.\n",
      "  \"avoid this warning.\", FutureWarning)\n"
     ]
    },
    {
     "data": {
      "image/png": "[encoded data removed]",
      "text/plain": [
       "<Figure size 432x288 with 1 Axes>"
      ]
     },
     "metadata": {
      "needs_background": "light"
     },
     "output_type": "display_data"
    }
   ],
   "source": [
    "fob.main(X1,Y1,len(X1))\n",
    "plt.scatter(X[:, 0], X[:, 1], c=Y, s=30, cmap=plt.cm.Paired)\n",
    "for i in range(30):\n",
    "    fob.plot_data(X[i],Y[i])\n",
    "plt.show()"
   ]
  },
  {
   "cell_type": "code",
   "execution_count": 10,
   "metadata": {},
   "outputs": [],
   "source": [
    "y_pred,distances=fob.predict(X,Y,2)"
   ]
  },
  {
   "cell_type": "code",
   "execution_count": 11,
   "metadata": {},
   "outputs": [
    {
     "name": "stdout",
     "output_type": "stream",
     "text": [
      "0.8\n"
     ]
    }
   ],
   "source": [
    "print((y_pred==Y).mean())"
   ]
  },
  {
   "cell_type": "code",
   "execution_count": 12,
   "metadata": {},
   "outputs": [
    {
     "name": "stdout",
     "output_type": "stream",
     "text": [
      "0.2\n"
     ]
    },
    {
     "name": "stderr",
     "output_type": "stream",
     "text": [
      "C:\\Users\\ANWOY\\Anaconda3\\lib\\site-packages\\sklearn\\svm\\base.py:193: FutureWarning: The default value of gamma will change from 'auto' to 'scale' in version 0.22 to account better for unscaled features. Set gamma explicitly to 'auto' or 'scale' to avoid this warning.\n",
      "  \"avoid this warning.\", FutureWarning)\n"
     ]
    }
   ],
   "source": [
    "clf1=OCSVM()\n",
    "clf1.fit(X1)\n",
    "y_pred1=clf1.predict(X)\n",
    "print((y_pred1==Y).mean())"
   ]
  },
  {
   "cell_type": "code",
   "execution_count": 13,
   "metadata": {},
   "outputs": [
    {
     "name": "stdout",
     "output_type": "stream",
     "text": [
      "1261\n",
      "1261\n"
     ]
    }
   ],
   "source": [
    "print(len(fob.SV_list[6]))\n",
    "print(len(fob.weight))"
   ]
  },
  {
   "cell_type": "code",
   "execution_count": 14,
   "metadata": {},
   "outputs": [],
   "source": [
    "def plot_svc_decision_function(model,X,Y, ax=None, plot_support=True,alpha_value=0.7):\n",
    "    \"\"\"Plot the decision function for a 2D SVC\"\"\"\n",
    "    plt.scatter(X[:, 0], X[:, 1], c=Y, s=30, cmap=plt.cm.Paired)\n",
    "    #plot the decision function\n",
    "    ax = plt.gca()\n",
    "    xlim = ax.get_xlim()\n",
    "    ylim = ax.get_ylim()\n",
    "    #create grid to evaluate model\n",
    "    Z = model.decision_function(xy).reshape(XX.shape)\n",
    "    #plot decision boundary and margins\n",
    "    ax.contour(XX, YY, Z, \"\"\"colors=(alpha_value,alpha_value,alpha_value)\"\"\", levels=[-1, 0,1], alpha=1,linestyles=['--', '-', '--'])\n",
    "    #plot support vectors\n",
    "    ax.scatter(model.support_vectors_[:, 0], model.support_vectors_[:, 1], s=100,\n",
    "    linewidth=1, facecolors='none', edgecolors='k',alpha=1-alpha_value)\n",
    "    plt.show()"
   ]
  },
  {
   "cell_type": "code",
   "execution_count": 15,
   "metadata": {},
   "outputs": [
    {
     "name": "stdout",
     "output_type": "stream",
     "text": [
      "1261\n"
     ]
    },
    {
     "data": {
      "image/png": "[encoded data removed]",
      "text/plain": [
       "<Figure size 432x288 with 1 Axes>"
      ]
     },
     "metadata": {
      "needs_background": "light"
     },
     "output_type": "display_data"
    }
   ],
   "source": [
    "#cnt=0\n",
    "#for SV in fob.SV_list:\n",
    "# print(cnt)\n",
    "# for i in range(len(SV)):\n",
    "# plt.scatter([SV[i][0]],[SV[i][1]])\n",
    "# cnt=cnt+1\n",
    "#plt.show()\n",
    "k=min(list(map(len,fob.SV_list)))\n",
    "print(k)\n",
    "s=fob.alpha.sum()\n",
    "n=len(fob.SV_list)\n",
    "defzSV=[]\n",
    "for j in range(k):\n",
    "    arr=np.array([0,0])\n",
    "    arr2=np.array([0,0])\n",
    "for i in range(n):\n",
    "    arr=arr+fob.SV_list[i][j]\n",
    "    arr2=arr2+fob.alpha[i]*fob.SV_list[i][j]\n",
    "#plt.scatter([arr[0]],[arr[1]])\n",
    "arr=arr/n\n",
    "arr2=arr2/s\n",
    "defzSV.append(arr2)\n",
    "plt.scatter([arr[0]],[arr[1]])\n",
    "#plt.scatter([arr2[0]],[arr2[1]])\n",
    "plt.show()"
   ]
  },
  {
   "cell_type": "code",
   "execution_count": 16,
   "metadata": {},
   "outputs": [
    {
     "name": "stdout",
     "output_type": "stream",
     "text": [
      "277200\n"
     ]
    }
   ],
   "source": [
    "print(len(fob.fdata))"
   ]
  },
  {
   "cell_type": "code",
   "execution_count": 17,
   "metadata": {},
   "outputs": [
    {
     "data": {
      "image/png": "[encoded data removed]",
      "text/plain": [
       "<Figure size 432x288 with 1 Axes>"
      ]
     },
     "metadata": {
      "needs_background": "light"
     },
     "output_type": "display_data"
    }
   ],
   "source": [
    "#fob.clf2.fit(fob.fdata)\n",
    "plot_svc_decision_function(fob.clf2,X,Y)"
   ]
  },
  {
   "cell_type": "code",
   "execution_count": 18,
   "metadata": {},
   "outputs": [],
   "source": [
    "def pre_process(X,Y,cls):\n",
    "    X1=[]\n",
    "    Y1=[]\n",
    "    for i in range(len(X)):\n",
    "        if Y[i]==cls:\n",
    "            X1.append(X[i])\n",
    "            Y1.append(Y[i])\n",
    "    X1=np.array(X1)\n",
    "    Y1=np.array(Y1)\n",
    "    return X1,Y1"
   ]
  },
  {
   "cell_type": "code",
   "execution_count": 19,
   "metadata": {},
   "outputs": [],
   "source": [
    "iris=datasets.load_iris()\n",
    "X2,Y2=pre_process(iris.data[:,:2],iris.target,2)"
   ]
  },
  {
   "cell_type": "code",
   "execution_count": 20,
   "metadata": {},
   "outputs": [
    {
     "name": "stderr",
     "output_type": "stream",
     "text": [
      "C:\\Users\\ANWOY\\Anaconda3\\lib\\site-packages\\sklearn\\svm\\base.py:193: FutureWarning: The default value of gamma will change from 'auto' to 'scale' in version 0.22 to account better for unscaled features. Set gamma explicitly to 'auto' or 'scale' to avoid this warning.\n",
      "  \"avoid this warning.\", FutureWarning)\n",
      "C:\\Users\\ANWOY\\Anaconda3\\lib\\site-packages\\ipykernel_launcher.py:94: UserWarning: No contour levels were found within the data range.\n",
      "C:\\Users\\ANWOY\\Anaconda3\\lib\\site-packages\\sklearn\\svm\\base.py:193: FutureWarning: The default value of gamma will change from 'auto' to 'scale' in version 0.22 to account better for unscaled features. Set gamma explicitly to 'auto' or 'scale' to avoid this warning.\n",
      "  \"avoid this warning.\", FutureWarning)\n",
      "C:\\Users\\ANWOY\\Anaconda3\\lib\\site-packages\\ipykernel_launcher.py:94: UserWarning: No contour levels were found within the data range.\n",
      "C:\\Users\\ANWOY\\Anaconda3\\lib\\site-packages\\sklearn\\svm\\base.py:193: FutureWarning: The default value of gamma will change from 'auto' to 'scale' in version 0.22 to account better for unscaled features. Set gamma explicitly to 'auto' or 'scale' to avoid this warning.\n",
      "  \"avoid this warning.\", FutureWarning)\n",
      "C:\\Users\\ANWOY\\Anaconda3\\lib\\site-packages\\ipykernel_launcher.py:94: UserWarning: No contour levels were found within the data range.\n",
      "C:\\Users\\ANWOY\\Anaconda3\\lib\\site-packages\\sklearn\\svm\\base.py:193: FutureWarning: The default value of gamma will change from 'auto' to 'scale' in version 0.22 to account better for unscaled features. Set gamma explicitly to 'auto' or 'scale' to avoid this warning.\n",
      "  \"avoid this warning.\", FutureWarning)\n",
      "C:\\Users\\ANWOY\\Anaconda3\\lib\\site-packages\\ipykernel_launcher.py:94: UserWarning: No contour levels were found within the data range.\n",
      "C:\\Users\\ANWOY\\Anaconda3\\lib\\site-packages\\sklearn\\svm\\base.py:193: FutureWarning: The default value of gamma will change from 'auto' to 'scale' in version 0.22 to account better for unscaled features. Set gamma explicitly to 'auto' or 'scale' to avoid this warning.\n",
      "  \"avoid this warning.\", FutureWarning)\n",
      "C:\\Users\\ANWOY\\Anaconda3\\lib\\site-packages\\ipykernel_launcher.py:94: UserWarning: No contour levels were found within the data range.\n",
      "C:\\Users\\ANWOY\\Anaconda3\\lib\\site-packages\\sklearn\\svm\\base.py:193: FutureWarning: The default value of gamma will change from 'auto' to 'scale' in version 0.22 to account better for unscaled features. Set gamma explicitly to 'auto' or 'scale' to avoid this warning.\n",
      "  \"avoid this warning.\", FutureWarning)\n",
      "C:\\Users\\ANWOY\\Anaconda3\\lib\\site-packages\\ipykernel_launcher.py:94: UserWarning: No contour levels were found within the data range.\n",
      "C:\\Users\\ANWOY\\Anaconda3\\lib\\site-packages\\sklearn\\svm\\base.py:193: FutureWarning: The default value of gamma will change from 'auto' to 'scale' in version 0.22 to account better for unscaled features. Set gamma explicitly to 'auto' or 'scale' to avoid this warning.\n",
      "  \"avoid this warning.\", FutureWarning)\n",
      "C:\\Users\\ANWOY\\Anaconda3\\lib\\site-packages\\ipykernel_launcher.py:94: UserWarning: No contour levels were found within the data range.\n",
      "C:\\Users\\ANWOY\\Anaconda3\\lib\\site-packages\\sklearn\\svm\\base.py:193: FutureWarning: The default value of gamma will change from 'auto' to 'scale' in version 0.22 to account better for unscaled features. Set gamma explicitly to 'auto' or 'scale' to avoid this warning.\n",
      "  \"avoid this warning.\", FutureWarning)\n",
      "C:\\Users\\ANWOY\\Anaconda3\\lib\\site-packages\\ipykernel_launcher.py:94: UserWarning: No contour levels were found within the data range.\n",
      "C:\\Users\\ANWOY\\Anaconda3\\lib\\site-packages\\sklearn\\svm\\base.py:193: FutureWarning: The default value of gamma will change from 'auto' to 'scale' in version 0.22 to account better for unscaled features. Set gamma explicitly to 'auto' or 'scale' to avoid this warning.\n",
      "  \"avoid this warning.\", FutureWarning)\n",
      "C:\\Users\\ANWOY\\Anaconda3\\lib\\site-packages\\ipykernel_launcher.py:94: UserWarning: No contour levels were found within the data range.\n",
      "C:\\Users\\ANWOY\\Anaconda3\\lib\\site-packages\\sklearn\\svm\\base.py:193: FutureWarning: The default value of gamma will change from 'auto' to 'scale' in version 0.22 to account better for unscaled features. Set gamma explicitly to 'auto' or 'scale' to avoid this warning.\n",
      "  \"avoid this warning.\", FutureWarning)\n",
      "C:\\Users\\ANWOY\\Anaconda3\\lib\\site-packages\\ipykernel_launcher.py:94: UserWarning: No contour levels were found within the data range.\n",
      "C:\\Users\\ANWOY\\Anaconda3\\lib\\site-packages\\sklearn\\svm\\base.py:193: FutureWarning: The default value of gamma will change from 'auto' to 'scale' in version 0.22 to account better for unscaled features. Set gamma explicitly to 'auto' or 'scale' to avoid this warning.\n",
      "  \"avoid this warning.\", FutureWarning)\n",
      "C:\\Users\\ANWOY\\Anaconda3\\lib\\site-packages\\ipykernel_launcher.py:94: UserWarning: No contour levels were found within the data range.\n"
     ]
    },
    {
     "data": {
      "image/png": "[encoded data removed]",
      "text/plain": [
       "<Figure size 432x288 with 1 Axes>"
      ]
     },
     "metadata": {},
     "output_type": "display_data"
    }
   ],
   "source": [
    "x_min, x_max = iris.data[:, 0].min() - .5, iris.data[:, 0].max() + .5\n",
    "y_min, y_max = iris.data[:, 1].min() - .5, iris.data[:, 1].max() + .5\n",
    "fob2=FzOCSVM(n_alpha=11,kernel='rbf')\n",
    "fob2.main(X2,Y2,len(X2))\n",
    "for i in range(len(iris.data[:,0])):\n",
    "    fob2.plot_data(iris.data[i,:2],iris.target[i]/2)\n",
    "plt.xlabel('Sepal length')\n",
    "plt.ylabel('Sepal width')\n",
    "plt.xlim(0, 10)\n",
    "plt.ylim(0, 10)\n",
    "plt.xticks(())\n",
    "plt.yticks(())\n",
    "plt.show()"
   ]
  },
  {
   "cell_type": "code",
   "execution_count": 21,
   "metadata": {},
   "outputs": [],
   "source": [
    "def evaluate(cls,y_pred):\n",
    "    cnt=0\n",
    "    n=len(iris.data[:,0])\n",
    "    for i in range(len(iris.data[:,0])):\n",
    "        if iris.target[i] == cls and y_pred[i]==1:\n",
    "            cnt=cnt+1\n",
    "        elif iris.target[i] != cls and y_pred[i]==0:\n",
    "            cnt=cnt+1\n",
    "    return cnt/n"
   ]
  },
  {
   "cell_type": "code",
   "execution_count": 22,
   "metadata": {},
   "outputs": [
    {
     "name": "stdout",
     "output_type": "stream",
     "text": [
      "0.7266666666666667\n"
     ]
    }
   ],
   "source": [
    "y_pred2,distances2=fob2.predict(iris.data[:,:2],iris.target,1)\n",
    "result=evaluate(2,y_pred2)\n",
    "print(result)"
   ]
  },
  {
   "cell_type": "code",
   "execution_count": 23,
   "metadata": {},
   "outputs": [
    {
     "name": "stdout",
     "output_type": "stream",
     "text": [
      "[0 0 0 0 0 0 0 0 0 0 0 0 0 0 0 0 0 0 0 0 0 0 0 0 0 0 0 0 0 0 0 0 0 0 0 0 0\n",
      " 0 0 0 0 0 0 0 0 0 0 0 0 0 1 1 1 1 1 1 1 1 1 1 1 1 1 1 1 1 1 1 1 1 1 1 1 1\n",
      " 1 1 1 1 1 1 1 1 1 1 1 1 1 1 1 1 1 1 1 1 1 1 1 1 1 1 2 2 2 2 2 2 2 2 2 2 2\n",
      " 2 2 2 2 2 2 2 2 2 2 2 2 2 2 2 2 2 2 2 2 2 2 2 2 2 2 2 2 2 2 2 2 2 2 2 2 2\n",
      " 2 2]\n"
     ]
    }
   ],
   "source": [
    "print(iris.target)"
   ]
  },
  {
   "cell_type": "code",
   "execution_count": 24,
   "metadata": {},
   "outputs": [
    {
     "name": "stdout",
     "output_type": "stream",
     "text": [
      "0.16666666666666666\n"
     ]
    },
    {
     "name": "stderr",
     "output_type": "stream",
     "text": [
      "C:\\Users\\ANWOY\\Anaconda3\\lib\\site-packages\\sklearn\\svm\\base.py:193: FutureWarning: The default value of gamma will change from 'auto' to 'scale' in version 0.22 to account better for unscaled features. Set gamma explicitly to 'auto' or 'scale' to avoid this warning.\n",
      "  \"avoid this warning.\", FutureWarning)\n"
     ]
    }
   ],
   "source": [
    "X3,Y3=pre_process(iris.data[:,:2],iris.target,2)\n",
    "clf3=OCSVM(kernel='rbf')\n",
    "clf3.fit(X3)\n",
    "y_pred3=clf3.predict(iris.data[:,:2])\n",
    "result3=evaluate(2,y_pred3)\n",
    "print(result3)"
   ]
  },
  {
   "cell_type": "code",
   "execution_count": 25,
   "metadata": {},
   "outputs": [
    {
     "name": "stdout",
     "output_type": "stream",
     "text": [
      "150\n",
      "150\n"
     ]
    }
   ],
   "source": [
    "print(len(iris.data[:,0]))\n",
    "print(len(iris.data))"
   ]
  },
  {
   "cell_type": "code",
   "execution_count": null,
   "metadata": {},
   "outputs": [],
   "source": []
  },
  {
   "cell_type": "code",
   "execution_count": null,
   "metadata": {},
   "outputs": [],
   "source": []
  }
 ],
 "metadata": {
  "kernelspec": {
   "display_name": "Python 3",
   "language": "python",
   "name": "python3"
  },
  "language_info": {
   "codemirror_mode": {
    "name": "ipython",
    "version": 3
   },
   "file_extension": ".py",
   "mimetype": "text/x-python",
   "name": "python",
   "nbconvert_exporter": "python",
   "pygments_lexer": "ipython3",
   "version": "3.7.4"
  }
 },
 "nbformat": 4,
 "nbformat_minor": 2
}
