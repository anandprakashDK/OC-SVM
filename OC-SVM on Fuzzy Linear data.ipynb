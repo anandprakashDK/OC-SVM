{
 "cells": [
  {
   "cell_type": "code",
   "execution_count": 49,
   "metadata": {},
   "outputs": [],
   "source": [
    "import numpy as np\n",
    "import matplotlib.pyplot as plt\n",
    "from sklearn.datasets.samples_generator import make_blobs \n",
    "from sklearn.model_selection import train_test_split"
   ]
  },
  {
   "cell_type": "code",
   "execution_count": 50,
   "metadata": {},
   "outputs": [
    {
     "data": {
      "text/plain": [
       "<matplotlib.collections.PathCollection at 0x1d100bedf48>"
      ]
     },
     "execution_count": 50,
     "metadata": {},
     "output_type": "execute_result"
    },
    {
     "data": {
      "image/png": "[encoded data removed]",
      "text/plain": [
       "<Figure size 432x288 with 1 Axes>"
      ]
     },
     "metadata": {
      "needs_background": "light"
     },
     "output_type": "display_data"
    }
   ],
   "source": [
    "# creating datasets X containing n_samples \n",
    "# Y containing two classes \n",
    "X, Y = make_blobs(n_samples=10, centers=2, random_state=5, cluster_std=0.40) \n",
    "plt.scatter(X[:,0],X[:,1],c=Y,cmap='coolwarm')"
   ]
  },
  {
   "cell_type": "code",
   "execution_count": 51,
   "metadata": {},
   "outputs": [
    {
     "data": {
      "text/plain": [
       "<matplotlib.collections.PathCollection at 0x1d100c5eb88>"
      ]
     },
     "execution_count": 51,
     "metadata": {},
     "output_type": "execute_result"
    },
    {
     "data": {
      "image/png": "[encoded data removed]",
      "text/plain": [
       "<Figure size 432x288 with 1 Axes>"
      ]
     },
     "metadata": {
      "needs_background": "light"
     },
     "output_type": "display_data"
    }
   ],
   "source": [
    "#extracting a single class, positive class in this case\n",
    "x=[]\n",
    "y=[]\n",
    "for i in range(10):\n",
    "    if Y[i]==1:\n",
    "        y.append(Y[i])\n",
    "        x.append(X[i])\n",
    "\n",
    "x=np.array(x)\n",
    "y=np.array(y)\n",
    "size=y.shape[0]\n",
    "plt.scatter(x[:,0],x[:,1],c=y,cmap='coolwarm')"
   ]
  },
  {
   "cell_type": "code",
   "execution_count": 52,
   "metadata": {},
   "outputs": [],
   "source": [
    "#to convert crisp data into interval valued data \n",
    "def Gen_lb_ub(x):\n",
    "    lb=x-.02*x\n",
    "    ub=x+.03*x\n",
    "    return lb,ub"
   ]
  },
  {
   "cell_type": "code",
   "execution_count": 53,
   "metadata": {},
   "outputs": [],
   "source": [
    "#acquiring centre and range of IVD to fuzzify data\n",
    "def Gen_cen_ran(lb,ub):\n",
    "    cen=(ub+lb)/2\n",
    "    ran=(ub-lb)/2\n",
    "    return cen,ran"
   ]
  },
  {
   "cell_type": "code",
   "execution_count": 54,
   "metadata": {},
   "outputs": [],
   "source": [
    "#the alpha set\n",
    "alpha=np.linspace(0,1,11)"
   ]
  },
  {
   "cell_type": "code",
   "execution_count": 55,
   "metadata": {},
   "outputs": [],
   "source": [
    "#function to fuzzify the data points\n",
    "def Fuzzify(cen,ran,alpha):\n",
    "    a=cen-ran*(1-alpha)\n",
    "    b=cen+ran*(1-alpha)\n",
    "    return a,b"
   ]
  },
  {
   "cell_type": "code",
   "execution_count": 56,
   "metadata": {},
   "outputs": [],
   "source": [
    "fuzz_points=[]\n",
    "ffy=[]"
   ]
  },
  {
   "cell_type": "code",
   "execution_count": 57,
   "metadata": {},
   "outputs": [],
   "source": [
    "fdata=[]\n",
    "fY=[]"
   ]
  },
  {
   "cell_type": "code",
   "execution_count": 58,
   "metadata": {},
   "outputs": [],
   "source": [
    "\n",
    "def Gen_setx(a,b,c,y,ffy):\n",
    "    for i in range(100):\n",
    "        fuzz_points.append([np.random.uniform(a,b),c])\n",
    "        fY.append(y)\n",
    "        ffy.append(y)\n",
    "    fuzz_points.append([a,c])\n",
    "    fuzz_points.append([b,c])\n",
    "    fY.append(y)\n",
    "    fY.append(y)\n",
    "    ffy.append(y)\n",
    "    ffy.append(y)"
   ]
  },
  {
   "cell_type": "code",
   "execution_count": 59,
   "metadata": {},
   "outputs": [],
   "source": [
    "\n",
    "def Gen_sety(a,b,c,y,ffy):\n",
    "    for i in range(100):\n",
    "        fuzz_points.append([c,np.random.uniform(a,b)])\n",
    "        fY.append(y)\n",
    "        ffy.append(y)\n",
    "    fuzz_points.append([c,a])\n",
    "    fuzz_points.append([c,b])\n",
    "    fY.append(y)\n",
    "    fY.append(y)\n",
    "    ffy.append(y)\n",
    "    ffy.append(y)"
   ]
  },
  {
   "cell_type": "code",
   "execution_count": 60,
   "metadata": {},
   "outputs": [],
   "source": [
    "#classifying the model using linear kernel in oc-svm as synthetic data is generated using make_blobs\n",
    "from sklearn.svm import OneClassSVM as OCSVC\n",
    "clf2=OCSVC(nu=0.1,kernel='linear')"
   ]
  },
  {
   "cell_type": "code",
   "execution_count": 61,
   "metadata": {},
   "outputs": [],
   "source": [
    "Wlist=[]\n",
    "Blist=[]"
   ]
  },
  {
   "cell_type": "code",
   "execution_count": 62,
   "metadata": {},
   "outputs": [],
   "source": [
    "#main function where model is trained\n",
    "def main(X,Y,n_samples,n_alpha):\n",
    "    \n",
    "    for i in range(n_alpha):\n",
    "        global fuzz_points\n",
    "        fuzz_points=[]\n",
    "        global ffy\n",
    "        ffy=[]\n",
    "        t=[]\n",
    "        for j in range(n_samples):\n",
    "            lb,ub=Gen_lb_ub(X[j])\n",
    "            cen,ran=Gen_cen_ran(lb,ub)\n",
    "            a,b=Fuzzify(cen,ran,alpha[i])\n",
    "            Gen_setx(a[0],b[0],a[1],Y[j],ffy)\n",
    "            Gen_setx(a[0],b[0],b[1],Y[j],ffy)\n",
    "            Gen_sety(a[1],b[1],a[0],Y[j],ffy)\n",
    "            Gen_sety(a[1],b[1],b[0],Y[j],ffy)\n",
    "            fdata.extend(fuzz_points)\n",
    "            x1=np.linspace(-7,-4)\n",
    "            fuzz_points_new=np.array(fuzz_points)\n",
    "        X_train,X_test,Y_train,Y_test=train_test_split(fuzz_points,ffy,test_size=0.3,random_state=1)\n",
    "        clf2.fit(X_train)\n",
    "        w=clf2.coef_\n",
    "        b=clf2.intercept_\n",
    "        Wlist.append([clf2.coef_[0][0],clf2.coef_[0][1]])\n",
    "        Blist.append(clf2.intercept_[0])\n",
    "        m=-w[0][0]/w[0][1]\n",
    "        x2=m*x1-b[0]/w[0][1]\n",
    "        plt.plot(x1,x2,c=(1-alpha[i],1-alpha[i],1-alpha[i]),linewidth=1.0)\n",
    "        "
   ]
  },
  {
   "cell_type": "code",
   "execution_count": 63,
   "metadata": {},
   "outputs": [],
   "source": [
    "#function to plot the data points for each alpha\n",
    "def plot_data(x,y):\n",
    "    lb,ub=Gen_lb_ub(x)\n",
    "    cen,ran=Gen_cen_ran(lb,ub)\n",
    "    for i in range(11):\n",
    "        global fuzz_points\n",
    "        fuzz_points=[]\n",
    "        a,b=Fuzzify(cen,ran,alpha[i])\n",
    "        Gen_setx(a[0],b[0],a[1],y,ffy)\n",
    "        Gen_setx(a[0],b[0],b[1],y,ffy)\n",
    "        Gen_sety(a[1],b[1],a[0],y,ffy)\n",
    "        Gen_sety(a[1],b[1],b[0],y,ffy)\n",
    "        fdata.extend(fuzz_points)\n",
    "        #print(len(fdata))\n",
    "        fuzz_points_new=np.array(fuzz_points)\n",
    "        #print(fuzz_points_new[:,:])\n",
    "        t=(y,1-alpha[i],1-alpha[i])\n",
    "        #plt.scatter(i,i,color=(0,alpha[i],alpha[i]))\n",
    "        plt.scatter(fuzz_points_new[:,0],fuzz_points_new[:,1],color=t,s=2,cmap='coolwarm')\n",
    "        #print(alpha[i])"
   ]
  },
  {
   "cell_type": "code",
   "execution_count": 74,
   "metadata": {},
   "outputs": [
    {
     "name": "stdout",
     "output_type": "stream",
     "text": [
      "2040\n"
     ]
    },
    {
     "data": {
      "image/png": "[encoded data removed]",
      "text/plain": [
       "<Figure size 432x288 with 1 Axes>"
      ]
     },
     "metadata": {
      "needs_background": "light"
     },
     "output_type": "display_data"
    }
   ],
   "source": [
    "#training the model and plotting the data\n",
    "\n",
    "global Wlist\n",
    "Wlist=[]\n",
    "global Blist\n",
    "Blist=[]\n",
    "main(x,y,5,11)\n",
    "print(len(fuzz_points))\n",
    "for i in range(5):\n",
    "    plot_data(x[i],y[i])"
   ]
  },
  {
   "cell_type": "code",
   "execution_count": 41,
   "metadata": {},
   "outputs": [
    {
     "data": {
      "text/plain": [
       "[[-891.7385569227675, 1132.7122498699755],\n",
       " [-895.4357931737883, 1136.1457768343466],\n",
       " [-893.9130337699568, 1137.9114700802315],\n",
       " [-894.1170573128383, 1140.2191124494427],\n",
       " [-894.318948370284, 1141.6619103250223],\n",
       " [-895.3489432236462, 1143.4354414992995],\n",
       " [-895.2647163472132, 1146.5607282337528],\n",
       " [-895.7142928152391, 1147.7865762776382],\n",
       " [-896.9101108437602, 1149.1301351901222],\n",
       " [-897.5450142609276, 1150.5994335270811],\n",
       " [-898.0905268280325, 1152.3423473776566]]"
      ]
     },
     "execution_count": 41,
     "metadata": {},
     "output_type": "execute_result"
    }
   ],
   "source": [
    "Wlist"
   ]
  },
  {
   "cell_type": "code",
   "execution_count": 42,
   "metadata": {},
   "outputs": [
    {
     "data": {
      "text/plain": [
       "[-14735.659880065521,\n",
       " -14809.491510009364,\n",
       " -14830.443551635342,\n",
       " -14855.033784484462,\n",
       " -14842.171867370213,\n",
       " -14866.963040160734,\n",
       " -14907.942100524493,\n",
       " -14920.322087096782,\n",
       " -14927.19022979695,\n",
       " -14933.679536437596,\n",
       " -14947.194955443934]"
      ]
     },
     "execution_count": 42,
     "metadata": {},
     "output_type": "execute_result"
    }
   ],
   "source": [
    " Blist"
   ]
  },
  {
   "cell_type": "code",
   "execution_count": 78,
   "metadata": {},
   "outputs": [],
   "source": [
    "W0_dict={}\n",
    "W1_dict={}\n",
    "B_dict={}\n",
    "for i in range (11):\n",
    "    W0_dict[Wlist[i][0]]=[]\n",
    "    W1_dict[Wlist[i][1]]=[]\n",
    "    B_dict[Blist[i]]=[]\n",
    "for i in range (11):\n",
    "    W0_dict[Wlist[i][0]].append(alpha[i])\n",
    "    W1_dict[Wlist[i][1]].append(alpha[i])\n",
    "    B_dict[Blist[i]].append(alpha[i])  "
   ]
  },
  {
   "cell_type": "code",
   "execution_count": 79,
   "metadata": {},
   "outputs": [],
   "source": [
    "def f_alpha(d):\n",
    "    f=[]\n",
    "    alp=[]\n",
    "    for key in d.keys():\n",
    "        alp.append(max(d[key]))\n",
    "        f.append(key*max(d[key])*max(d[key]))\n",
    "    return f,alp"
   ]
  },
  {
   "cell_type": "code",
   "execution_count": 63,
   "metadata": {},
   "outputs": [],
   "source": [
    "f_W0,W0_alp=f_alpha(W0_dict)\n",
    "f_W1,W1_alp=f_alpha(W1_dict)\n",
    "f_B,B_alp=f_alpha(B_dict)"
   ]
  },
  {
   "cell_type": "code",
   "execution_count": 64,
   "metadata": {},
   "outputs": [],
   "source": [
    "W0_final=np.trapz(f_W0,W0_alp)\n",
    "W1_final=np.trapz(f_W1,W1_alp)\n",
    "B_final=np.trapz(f_B,B_alp)"
   ]
  },
  {
   "cell_type": "code",
   "execution_count": 65,
   "metadata": {},
   "outputs": [
    {
     "name": "stdout",
     "output_type": "stream",
     "text": [
      "-300.3638253711715\n",
      "384.6353148119197\n",
      "-4996.951416654834\n"
     ]
    }
   ],
   "source": [
    "print(W0_final)\n",
    "print(W1_final)\n",
    "print(B_final)"
   ]
  },
  {
   "cell_type": "code",
   "execution_count": 71,
   "metadata": {},
   "outputs": [
    {
     "data": {
      "text/plain": [
       "[<matplotlib.lines.Line2D at 0x24b23799e48>]"
      ]
     },
     "execution_count": 71,
     "metadata": {},
     "output_type": "execute_result"
    },
    {
     "data": {
      "image/png": "[encoded data removed]",
      "text/plain": [
       "<Figure size 432x288 with 1 Axes>"
      ]
     },
     "metadata": {
      "needs_background": "light"
     },
     "output_type": "display_data"
    }
   ],
   "source": [
    "#training the model and plotting the data\n",
    "global Wlist\n",
    "Wlist=[]\n",
    "global Blist\n",
    "Blist=[]\n",
    "main(x,y,len(x),11)\n",
    "for i in range(len(X)):\n",
    "    plot_data(X[i],Y[i])\n",
    "x1=np.linspace(-7,-4)\n",
    "m=-W0_final/W1_final\n",
    "x2=m*x1-B_final/W1_final\n",
    "plt.plot(x1,x2,c=(0,0,1),linewidth=2.0)"
   ]
  }
 ],
 "metadata": {
  "kernelspec": {
   "display_name": "Python 3",
   "language": "python",
   "name": "python3"
  },
  "language_info": {
   "codemirror_mode": {
    "name": "ipython",
    "version": 3
   },
   "file_extension": ".py",
   "mimetype": "text/x-python",
   "name": "python",
   "nbconvert_exporter": "python",
   "pygments_lexer": "ipython3",
   "version": "3.7.4"
  }
 },
 "nbformat": 4,
 "nbformat_minor": 2
}
